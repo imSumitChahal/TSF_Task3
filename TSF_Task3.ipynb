{
 "cells": [
  {
   "cell_type": "markdown",
   "id": "b7b44d45",
   "metadata": {},
   "source": [
    "# SUMIT KUMAR     THE SPARKS FOUNDATION (JULY 2024) BATCH\n",
    "\n",
    "#DATA SCIENCE AND BUSINESS ANALYTICS TASK No. 3    ( Exploratory Data Analysis using Python on Jupyter Notebook)"
   ]
  },
  {
   "cell_type": "markdown",
   "id": "5f11f0cb",
   "metadata": {},
   "source": [
    "# Importing Necessary libraries and  Data"
   ]
  },
  {
   "cell_type": "code",
   "execution_count": 41,
   "id": "053ecd17",
   "metadata": {},
   "outputs": [
    {
     "data": {
      "text/html": [
       "<div>\n",
       "<style scoped>\n",
       "    .dataframe tbody tr th:only-of-type {\n",
       "        vertical-align: middle;\n",
       "    }\n",
       "\n",
       "    .dataframe tbody tr th {\n",
       "        vertical-align: top;\n",
       "    }\n",
       "\n",
       "    .dataframe thead th {\n",
       "        text-align: right;\n",
       "    }\n",
       "</style>\n",
       "<table border=\"1\" class=\"dataframe\">\n",
       "  <thead>\n",
       "    <tr style=\"text-align: right;\">\n",
       "      <th></th>\n",
       "      <th>Ship Mode</th>\n",
       "      <th>Segment</th>\n",
       "      <th>Country</th>\n",
       "      <th>City</th>\n",
       "      <th>State</th>\n",
       "      <th>Postal Code</th>\n",
       "      <th>Region</th>\n",
       "      <th>Category</th>\n",
       "      <th>Sub-Category</th>\n",
       "      <th>Sales</th>\n",
       "      <th>Quantity</th>\n",
       "      <th>Discount</th>\n",
       "      <th>Profit</th>\n",
       "    </tr>\n",
       "  </thead>\n",
       "  <tbody>\n",
       "    <tr>\n",
       "      <th>0</th>\n",
       "      <td>Second Class</td>\n",
       "      <td>Consumer</td>\n",
       "      <td>United States</td>\n",
       "      <td>Henderson</td>\n",
       "      <td>Kentucky</td>\n",
       "      <td>42420</td>\n",
       "      <td>South</td>\n",
       "      <td>Furniture</td>\n",
       "      <td>Bookcases</td>\n",
       "      <td>261.9600</td>\n",
       "      <td>2</td>\n",
       "      <td>0.00</td>\n",
       "      <td>41.9136</td>\n",
       "    </tr>\n",
       "    <tr>\n",
       "      <th>1</th>\n",
       "      <td>Second Class</td>\n",
       "      <td>Consumer</td>\n",
       "      <td>United States</td>\n",
       "      <td>Henderson</td>\n",
       "      <td>Kentucky</td>\n",
       "      <td>42420</td>\n",
       "      <td>South</td>\n",
       "      <td>Furniture</td>\n",
       "      <td>Chairs</td>\n",
       "      <td>731.9400</td>\n",
       "      <td>3</td>\n",
       "      <td>0.00</td>\n",
       "      <td>219.5820</td>\n",
       "    </tr>\n",
       "    <tr>\n",
       "      <th>2</th>\n",
       "      <td>Second Class</td>\n",
       "      <td>Corporate</td>\n",
       "      <td>United States</td>\n",
       "      <td>Los Angeles</td>\n",
       "      <td>California</td>\n",
       "      <td>90036</td>\n",
       "      <td>West</td>\n",
       "      <td>Office Supplies</td>\n",
       "      <td>Labels</td>\n",
       "      <td>14.6200</td>\n",
       "      <td>2</td>\n",
       "      <td>0.00</td>\n",
       "      <td>6.8714</td>\n",
       "    </tr>\n",
       "    <tr>\n",
       "      <th>3</th>\n",
       "      <td>Standard Class</td>\n",
       "      <td>Consumer</td>\n",
       "      <td>United States</td>\n",
       "      <td>Fort Lauderdale</td>\n",
       "      <td>Florida</td>\n",
       "      <td>33311</td>\n",
       "      <td>South</td>\n",
       "      <td>Furniture</td>\n",
       "      <td>Tables</td>\n",
       "      <td>957.5775</td>\n",
       "      <td>5</td>\n",
       "      <td>0.45</td>\n",
       "      <td>-383.0310</td>\n",
       "    </tr>\n",
       "    <tr>\n",
       "      <th>4</th>\n",
       "      <td>Standard Class</td>\n",
       "      <td>Consumer</td>\n",
       "      <td>United States</td>\n",
       "      <td>Fort Lauderdale</td>\n",
       "      <td>Florida</td>\n",
       "      <td>33311</td>\n",
       "      <td>South</td>\n",
       "      <td>Office Supplies</td>\n",
       "      <td>Storage</td>\n",
       "      <td>22.3680</td>\n",
       "      <td>2</td>\n",
       "      <td>0.20</td>\n",
       "      <td>2.5164</td>\n",
       "    </tr>\n",
       "    <tr>\n",
       "      <th>...</th>\n",
       "      <td>...</td>\n",
       "      <td>...</td>\n",
       "      <td>...</td>\n",
       "      <td>...</td>\n",
       "      <td>...</td>\n",
       "      <td>...</td>\n",
       "      <td>...</td>\n",
       "      <td>...</td>\n",
       "      <td>...</td>\n",
       "      <td>...</td>\n",
       "      <td>...</td>\n",
       "      <td>...</td>\n",
       "      <td>...</td>\n",
       "    </tr>\n",
       "    <tr>\n",
       "      <th>9989</th>\n",
       "      <td>Second Class</td>\n",
       "      <td>Consumer</td>\n",
       "      <td>United States</td>\n",
       "      <td>Miami</td>\n",
       "      <td>Florida</td>\n",
       "      <td>33180</td>\n",
       "      <td>South</td>\n",
       "      <td>Furniture</td>\n",
       "      <td>Furnishings</td>\n",
       "      <td>25.2480</td>\n",
       "      <td>3</td>\n",
       "      <td>0.20</td>\n",
       "      <td>4.1028</td>\n",
       "    </tr>\n",
       "    <tr>\n",
       "      <th>9990</th>\n",
       "      <td>Standard Class</td>\n",
       "      <td>Consumer</td>\n",
       "      <td>United States</td>\n",
       "      <td>Costa Mesa</td>\n",
       "      <td>California</td>\n",
       "      <td>92627</td>\n",
       "      <td>West</td>\n",
       "      <td>Furniture</td>\n",
       "      <td>Furnishings</td>\n",
       "      <td>91.9600</td>\n",
       "      <td>2</td>\n",
       "      <td>0.00</td>\n",
       "      <td>15.6332</td>\n",
       "    </tr>\n",
       "    <tr>\n",
       "      <th>9991</th>\n",
       "      <td>Standard Class</td>\n",
       "      <td>Consumer</td>\n",
       "      <td>United States</td>\n",
       "      <td>Costa Mesa</td>\n",
       "      <td>California</td>\n",
       "      <td>92627</td>\n",
       "      <td>West</td>\n",
       "      <td>Technology</td>\n",
       "      <td>Phones</td>\n",
       "      <td>258.5760</td>\n",
       "      <td>2</td>\n",
       "      <td>0.20</td>\n",
       "      <td>19.3932</td>\n",
       "    </tr>\n",
       "    <tr>\n",
       "      <th>9992</th>\n",
       "      <td>Standard Class</td>\n",
       "      <td>Consumer</td>\n",
       "      <td>United States</td>\n",
       "      <td>Costa Mesa</td>\n",
       "      <td>California</td>\n",
       "      <td>92627</td>\n",
       "      <td>West</td>\n",
       "      <td>Office Supplies</td>\n",
       "      <td>Paper</td>\n",
       "      <td>29.6000</td>\n",
       "      <td>4</td>\n",
       "      <td>0.00</td>\n",
       "      <td>13.3200</td>\n",
       "    </tr>\n",
       "    <tr>\n",
       "      <th>9993</th>\n",
       "      <td>Second Class</td>\n",
       "      <td>Consumer</td>\n",
       "      <td>United States</td>\n",
       "      <td>Westminster</td>\n",
       "      <td>California</td>\n",
       "      <td>92683</td>\n",
       "      <td>West</td>\n",
       "      <td>Office Supplies</td>\n",
       "      <td>Appliances</td>\n",
       "      <td>243.1600</td>\n",
       "      <td>2</td>\n",
       "      <td>0.00</td>\n",
       "      <td>72.9480</td>\n",
       "    </tr>\n",
       "  </tbody>\n",
       "</table>\n",
       "<p>9994 rows × 13 columns</p>\n",
       "</div>"
      ],
      "text/plain": [
       "           Ship Mode    Segment        Country             City       State  \\\n",
       "0       Second Class   Consumer  United States        Henderson    Kentucky   \n",
       "1       Second Class   Consumer  United States        Henderson    Kentucky   \n",
       "2       Second Class  Corporate  United States      Los Angeles  California   \n",
       "3     Standard Class   Consumer  United States  Fort Lauderdale     Florida   \n",
       "4     Standard Class   Consumer  United States  Fort Lauderdale     Florida   \n",
       "...              ...        ...            ...              ...         ...   \n",
       "9989    Second Class   Consumer  United States            Miami     Florida   \n",
       "9990  Standard Class   Consumer  United States       Costa Mesa  California   \n",
       "9991  Standard Class   Consumer  United States       Costa Mesa  California   \n",
       "9992  Standard Class   Consumer  United States       Costa Mesa  California   \n",
       "9993    Second Class   Consumer  United States      Westminster  California   \n",
       "\n",
       "      Postal Code Region         Category Sub-Category     Sales  Quantity  \\\n",
       "0           42420  South        Furniture    Bookcases  261.9600         2   \n",
       "1           42420  South        Furniture       Chairs  731.9400         3   \n",
       "2           90036   West  Office Supplies       Labels   14.6200         2   \n",
       "3           33311  South        Furniture       Tables  957.5775         5   \n",
       "4           33311  South  Office Supplies      Storage   22.3680         2   \n",
       "...           ...    ...              ...          ...       ...       ...   \n",
       "9989        33180  South        Furniture  Furnishings   25.2480         3   \n",
       "9990        92627   West        Furniture  Furnishings   91.9600         2   \n",
       "9991        92627   West       Technology       Phones  258.5760         2   \n",
       "9992        92627   West  Office Supplies        Paper   29.6000         4   \n",
       "9993        92683   West  Office Supplies   Appliances  243.1600         2   \n",
       "\n",
       "      Discount    Profit  \n",
       "0         0.00   41.9136  \n",
       "1         0.00  219.5820  \n",
       "2         0.00    6.8714  \n",
       "3         0.45 -383.0310  \n",
       "4         0.20    2.5164  \n",
       "...        ...       ...  \n",
       "9989      0.20    4.1028  \n",
       "9990      0.00   15.6332  \n",
       "9991      0.20   19.3932  \n",
       "9992      0.00   13.3200  \n",
       "9993      0.00   72.9480  \n",
       "\n",
       "[9994 rows x 13 columns]"
      ]
     },
     "execution_count": 41,
     "metadata": {},
     "output_type": "execute_result"
    }
   ],
   "source": [
    "import pandas as pd\n",
    "import seaborn as sns\n",
    "import matplotlib.pyplot as plt\n",
    "\n",
    "from IPython.display import display, HTML\n",
    "df=pd.read_csv('C://Users//DELL//Downloads//SampleSuperstore.csv')\n",
    "df"
   ]
  },
  {
   "cell_type": "markdown",
   "id": "839f4027",
   "metadata": {},
   "source": [
    "#  Quantity Wise Analysis"
   ]
  },
  {
   "cell_type": "code",
   "execution_count": 3,
   "id": "8ac0c3a5",
   "metadata": {},
   "outputs": [
    {
     "name": "stdout",
     "output_type": "stream",
     "text": [
      "          Category  Quantity        Sales       Profit  Profit Percentage\n",
      "1  Office Supplies     22906  719047.0320  122490.8008              17.04\n",
      "0        Furniture      8028  741999.7953   18451.2728               2.49\n",
      "2       Technology      6939  836154.0330  145454.9481              17.40\n"
     ]
    },
    {
     "data": {
      "text/html": [
       "<br><br><br>"
      ],
      "text/plain": [
       "<IPython.core.display.HTML object>"
      ]
     },
     "metadata": {},
     "output_type": "display_data"
    },
    {
     "name": "stdout",
     "output_type": "stream",
     "text": [
      "   Sub-Category  Quantity        Sales      Profit  Profit Percentage\n",
      "3       Binders      5974  203412.7330  30221.7633              14.86\n",
      "12        Paper      5178   78479.2060  34053.5693              43.39\n",
      "9   Furnishings      3563   91705.1640  13059.1436              14.24\n",
      "13       Phones      3289  330007.0540  44515.7306              13.49\n",
      "14      Storage      3158  223843.6080  21278.8264               9.51\n",
      "2           Art      3000   27118.7920   6527.7870              24.07\n",
      "0   Accessories      2976  167380.3180  41936.6357              25.05\n",
      "5        Chairs      2356  328449.1030  26590.1663               8.10\n",
      "1    Appliances      1729  107532.1610  18138.0054              16.87\n",
      "10       Labels      1400   12486.3120   5546.2540              44.42\n",
      "16       Tables      1241  206965.5320 -17725.4811              -8.56\n",
      "8     Fasteners       914    3024.2800    949.5182              31.40\n",
      "7     Envelopes       906   16476.4020   6964.1767              42.27\n",
      "4     Bookcases       868  114879.9963  -3472.5560              -3.02\n",
      "15     Supplies       647   46673.5380  -1189.0995              -2.55\n",
      "11     Machines       440  189238.6310   3384.7569               1.79\n",
      "6       Copiers       234  149528.0300  55617.8249              37.20\n"
     ]
    },
    {
     "data": {
      "text/html": [
       "<br><br><br>"
      ],
      "text/plain": [
       "<IPython.core.display.HTML object>"
      ]
     },
     "metadata": {},
     "output_type": "display_data"
    },
    {
     "name": "stdout",
     "output_type": "stream",
     "text": [
      "              City  Quantity       Sales      Profit  Profit Percentage\n",
      "329  New York City      3417  256368.161  62036.9837              24.20\n",
      "266    Los Angeles      2879  175851.341  30440.7579              17.31\n",
      "374   Philadelphia      1981  109077.013 -13837.7674             -12.69\n",
      "438  San Francisco      1935  112669.092  17507.3854              15.54\n",
      "452        Seattle      1590  119540.742  29156.0967              24.39\n",
      "..             ...       ...         ...         ...                ...\n",
      "213      Iowa City         1       9.990      4.4955              45.00\n",
      "386    Port Orange         1       7.824      2.9340              37.50\n",
      "257    Lindenhurst         1      55.480     26.6304              48.00\n",
      "259      Littleton         1      72.294    -98.8018            -136.67\n",
      "140         Elyria         1       1.824     -1.3984             -76.67\n",
      "\n",
      "[531 rows x 5 columns]\n"
     ]
    },
    {
     "data": {
      "text/html": [
       "<br><br><br>"
      ],
      "text/plain": [
       "<IPython.core.display.HTML object>"
      ]
     },
     "metadata": {},
     "output_type": "display_data"
    },
    {
     "name": "stdout",
     "output_type": "stream",
     "text": [
      "TOP Cities with highest Quantity sold:\n",
      "             City  Quantity        Sales      Profit  Profit Percentage\n",
      "0   New York City      3417  256368.1610  62036.9837              24.20\n",
      "1     Los Angeles      2879  175851.3410  30440.7579              17.31\n",
      "2    Philadelphia      1981  109077.0130 -13837.7674             -12.69\n",
      "3   San Francisco      1935  112669.0920  17507.3854              15.54\n",
      "4         Seattle      1590  119540.7420  29156.0967              24.39\n",
      "5         Houston      1466   64504.7604 -10153.5485             -15.74\n",
      "6         Chicago      1132   48539.5410  -6654.5688             -13.71\n",
      "7        Columbus       836   38706.2430   5897.1013              15.24\n",
      "8       San Diego       670   47521.0290   6377.1960              13.42\n",
      "9     Springfield       649   43054.3420   6200.6974              14.40\n",
      "10         Dallas       555   20131.9322  -2846.5257             -14.14\n",
      "11        Detroit       441   42446.9440  13181.7908              31.05\n",
      "12   Jacksonville       429   44713.1830  -2323.8350              -5.20\n",
      "13         Newark       362   28576.1190   5793.7588              20.27\n",
      "14       Richmond       336   18137.9300   5567.2486              30.69\n",
      "15        Jackson       318   24963.8580   7581.6828              30.37\n",
      "16       Columbia       316   25283.3240   5606.1167              22.17\n",
      "17      Arlington       259   20214.5320   4169.6969              20.63\n",
      "18         Aurora       258   11656.4780  -2691.7386             -23.09\n",
      "19     Long Beach       256   13455.0300   2108.9306              15.67\n"
     ]
    },
    {
     "data": {
      "text/html": [
       "<br><br><br>"
      ],
      "text/plain": [
       "<IPython.core.display.HTML object>"
      ]
     },
     "metadata": {},
     "output_type": "display_data"
    },
    {
     "name": "stdout",
     "output_type": "stream",
     "text": [
      "Top Cities with lowest quantity sold:\n",
      "               City  Quantity    Sales    Profit  Profit Percentage\n",
      "511   Atlantic City         2   23.360   11.6800              50.00\n",
      "512        Billings         2    8.288    2.6936              32.50\n",
      "513         Holyoke         2  301.960   60.3920              20.00\n",
      "514         Baytown         2   10.368    3.6288              35.00\n",
      "515    Grand Island         2   15.960    7.9800              50.00\n",
      "516         Portage         2   16.280    6.5120              40.00\n",
      "517          Keller         2    6.000    2.1000              35.00\n",
      "518        Missoula         2  487.984  152.4950              31.25\n",
      "519       Kissimmee         2  751.984   84.5982              11.25\n",
      "520       Melbourne         2   95.616    9.5616              10.00\n",
      "521       Manhattan         2  273.960   10.9584               4.00\n",
      "522         Abilene         2    1.392   -3.7584            -270.00\n",
      "523      Montebello         2   27.880    3.9032              14.00\n",
      "524  Jefferson City         2   86.620    8.6620              10.00\n",
      "525         Jupiter         1    2.064    0.1548               7.50\n",
      "526       Iowa City         1    9.990    4.4955              45.00\n",
      "527     Port Orange         1    7.824    2.9340              37.50\n",
      "528     Lindenhurst         1   55.480   26.6304              48.00\n",
      "529       Littleton         1   72.294  -98.8018            -136.67\n",
      "530          Elyria         1    1.824   -1.3984             -76.67\n"
     ]
    }
   ],
   "source": [
    "# Group by 'Category' and sum the 'Quantity','Sales', 'Profit','profit percentage' column\n",
    "Details_per_category = df.groupby('Category')[['Quantity','Sales','Profit']].sum().reset_index().sort_values(by='Quantity',ascending=False)\n",
    "\n",
    "# Calculate percentage of Profit to Sales\n",
    "Details_per_category['Profit Percentage'] = (Details_per_category['Profit'] / Details_per_category['Sales']) * 100\n",
    "\n",
    "# Round the percentage to 2 decimal places for better readability\n",
    "Details_per_category['Profit Percentage'] = Details_per_category['Profit Percentage'].round(2)\n",
    "\n",
    "# Select only the 'Category', 'Sales', 'Profit', and 'Profit to Sales Percentage' columns for display\n",
    "Details_per_Category = Details_per_category[['Category', 'Quantity','Sales', 'Profit', 'Profit Percentage']]\n",
    "\n",
    "print(Details_per_Category)\n",
    "# Add some  space\n",
    "display(HTML(\"<br><br><br>\"))\n",
    "\n",
    "\n",
    "\n",
    "# Group by 'Sub-Category' and sum 'Quantity', 'Sales', and 'Profit'\n",
    "Details_per_Subcategory = df.groupby('Sub-Category').agg({'Quantity': 'sum', 'Sales': 'sum', 'Profit': 'sum'}).reset_index().sort_values(by='Quantity', ascending=False)\n",
    "\n",
    "# Calculate percentage of Profit to Sales\n",
    "Details_per_Subcategory['Profit Percentage'] = (Details_per_Subcategory['Profit'] / Details_per_Subcategory['Sales']) * 100\n",
    "\n",
    "# Round the percentage to 2 decimal places for better readability\n",
    "Details_per_Subcategory['Profit Percentage'] = Details_per_Subcategory['Profit Percentage'].round(2)\n",
    "\n",
    "print(Details_per_Subcategory)\n",
    "# Add some  space\n",
    "display(HTML(\"<br><br><br>\"))\n",
    "\n",
    "\n",
    "\n",
    "\n",
    "# Group by 'City' and sum 'Quantity', 'Sales', and 'Profit'\n",
    "Details_per_city = df.groupby('City').agg({'Quantity': 'sum', 'Sales': 'sum', 'Profit': 'sum'}).reset_index().sort_values(by='Quantity', ascending=False)\n",
    "\n",
    "# Calculate percentage of Profit to Sales\n",
    "Details_per_city['Profit Percentage'] = (Details_per_city['Profit'] / Details_per_city['Sales']) * 100\n",
    "\n",
    "# Round the percentage to 2 decimal places for better readability\n",
    "Details_per_city['Profit Percentage'] = Details_per_city['Profit Percentage'].round(2)\n",
    "\n",
    "print(Details_per_city)\n",
    "# Add some  space\n",
    "display(HTML(\"<br><br><br>\"))\n",
    "\n",
    "\n",
    "\n",
    " #Sort values to get top 10 and bottom 10\n",
    "sorted_cities = Details_per_city.sort_values(by='Quantity', ascending=False).reset_index(drop=True)\n",
    "\n",
    "# Extract top 20 values\n",
    "top_20 = sorted_cities.head(20)\n",
    "\n",
    "# Extract bottom 20 values\n",
    "bottom_20 = sorted_cities.tail(20)\n",
    "\n",
    "print(\"TOP Cities with highest Quantity sold:\")\n",
    "print(top_20)\n",
    "# Add some  space\n",
    "display(HTML(\"<br><br><br>\"))\n",
    "\n",
    "print(\"Top Cities with lowest quantity sold:\")\n",
    "print(bottom_20)\n",
    "\n",
    "\n"
   ]
  },
  {
   "cell_type": "markdown",
   "id": "1071e939",
   "metadata": {},
   "source": [
    "# Profit Wise Analysis"
   ]
  },
  {
   "cell_type": "code",
   "execution_count": 4,
   "id": "ea3774a5",
   "metadata": {},
   "outputs": [
    {
     "name": "stdout",
     "output_type": "stream",
     "text": [
      "   Sub-Category  Quantity      Profit        Sales  Profit Percentage\n",
      "6       Copiers       234  55617.8249  149528.0300          37.195585\n",
      "13       Phones      3289  44515.7306  330007.0540          13.489327\n",
      "0   Accessories      2976  41936.6357  167380.3180          25.054700\n",
      "12        Paper      5178  34053.5693   78479.2060          43.391837\n",
      "3       Binders      5974  30221.7633  203412.7330          14.857361\n",
      "5        Chairs      2356  26590.1663  328449.1030           8.095673\n",
      "14      Storage      3158  21278.8264  223843.6080           9.506113\n",
      "1    Appliances      1729  18138.0054  107532.1610          16.867517\n",
      "9   Furnishings      3563  13059.1436   91705.1640          14.240358\n",
      "7     Envelopes       906   6964.1767   16476.4020          42.267582\n",
      "2           Art      3000   6527.7870   27118.7920          24.071083\n",
      "10       Labels      1400   5546.2540   12486.3120          44.418672\n",
      "11     Machines       440   3384.7569  189238.6310           1.788618\n",
      "8     Fasteners       914    949.5182    3024.2800          31.396504\n",
      "15     Supplies       647  -1189.0995   46673.5380          -2.547695\n",
      "4     Bookcases       868  -3472.5560  114879.9963          -3.022768\n",
      "16       Tables      1241 -17725.4811  206965.5320          -8.564460\n"
     ]
    },
    {
     "data": {
      "text/html": [
       "<br><br><br>"
      ],
      "text/plain": [
       "<IPython.core.display.HTML object>"
      ]
     },
     "metadata": {},
     "output_type": "display_data"
    },
    {
     "name": "stdout",
     "output_type": "stream",
     "text": [
      "    Region  Quantity        Sales       Profit  Profit Percentage\n",
      "3     West     12266  725457.8245  108418.4489          14.944831\n",
      "1     East     10618  678781.2400   91522.7800          13.483399\n",
      "2    South      6209  391721.9050   46749.4303          11.934342\n",
      "0  Central      8780  501239.8908   39706.3625           7.921629\n"
     ]
    },
    {
     "data": {
      "text/html": [
       "<br><br><br>"
      ],
      "text/plain": [
       "<IPython.core.display.HTML object>"
      ]
     },
     "metadata": {},
     "output_type": "display_data"
    },
    {
     "name": "stdout",
     "output_type": "stream",
     "text": [
      "        Ship Mode  Quantity       Profit         Sales  Profit Percentage\n",
      "3  Standard Class     22797  164088.7875  1.358216e+06          12.081202\n",
      "2    Second Class      7423   57446.6354  4.591936e+05          12.510331\n",
      "0     First Class      5693   48969.8399  3.514284e+05          13.934513\n",
      "1        Same Day      1960   15891.7589  1.283631e+05          12.380315\n"
     ]
    }
   ],
   "source": [
    "#subcategory with highest profit\n",
    "subcat_details = df.groupby('Sub-Category')[['Quantity','Profit','Sales']].sum().reset_index().sort_values(by='Profit',ascending=False)\n",
    "# Calculate percentage of Profit to Sales\n",
    "subcat_details['Profit Percentage'] = (subcat_details['Profit'] / subcat_details['Sales']) * 100\n",
    "print(subcat_details)\n",
    "# Add some  space\n",
    "display(HTML(\"<br><br><br>\"))\n",
    "\n",
    "\n",
    "\n",
    "# Group by 'Region' and sum 'Quantity', 'Sales', and 'Profit'\n",
    "Details_per_region = df.groupby('Region').agg({'Quantity': 'sum', 'Sales': 'sum', 'Profit': 'sum'}).reset_index().sort_values(by='Profit', ascending=False)\n",
    "\n",
    "# Calculate percentage of Profit to Sales\n",
    "Details_per_region['Profit Percentage'] = (Details_per_region['Profit'] / Details_per_region['Sales']) * 100\n",
    "print(Details_per_region)\n",
    "# Add some  space\n",
    "display(HTML(\"<br><br><br>\"))\n",
    "\n",
    "\n",
    "\n",
    "#Ship Mode with highest profit\n",
    "shipmode_details = df.groupby('Ship Mode')[['Quantity','Profit','Sales']].sum().reset_index().sort_values(by='Profit',ascending=False)\n",
    "# Calculate percentage of Profit to Sales\n",
    "shipmode_details['Profit Percentage'] = (shipmode_details['Profit'] / shipmode_details['Sales']) * 100\n",
    "print(shipmode_details)\n"
   ]
  },
  {
   "cell_type": "markdown",
   "id": "2dc84fec",
   "metadata": {},
   "source": [
    "# Discount wise Analysis"
   ]
  },
  {
   "cell_type": "code",
   "execution_count": 62,
   "id": "bb920488",
   "metadata": {},
   "outputs": [
    {
     "name": "stdout",
     "output_type": "stream",
     "text": [
      "Minimum Discount= 0.0 Maximum Discount= 0.8\n",
      "Total Disount(Rupees)= 322582.134341\n"
     ]
    },
    {
     "data": {
      "text/html": [
       "<br><br><br>"
      ],
      "text/plain": [
       "<IPython.core.display.HTML object>"
      ]
     },
     "metadata": {},
     "output_type": "display_data"
    },
    {
     "name": "stdout",
     "output_type": "stream",
     "text": [
      "   Sub-Category     Sales  Discount     Profit\n",
      "0       Copiers  2999.950       0.0  1439.9760\n",
      "1       Copiers   549.990       0.0   274.9950\n",
      "2       Copiers   549.990       0.0   274.9950\n",
      "3       Copiers  1599.920       0.0   751.9624\n",
      "4       Copiers  1999.960       0.0   899.9820\n",
      "..          ...       ...       ...        ...\n",
      "63      Copiers  8399.976       0.4  1119.9968\n",
      "64      Copiers   659.988       0.4   109.9980\n",
      "65      Copiers  1079.976       0.4   125.9972\n",
      "66      Copiers   839.988       0.4    69.9990\n",
      "67      Copiers  1439.976       0.4   191.9968\n",
      "\n",
      "[68 rows x 4 columns]\n",
      "Correlation Coefficient between Discount and Sales: -0.22\n",
      "Correlation Coefficient between Discount and Sales: -0.36\n"
     ]
    }
   ],
   "source": [
    "print('Minimum Discount=',min(df['Discount']), 'Maximum Discount=',max(df['Discount']))\n",
    "#It represents that discount is given in decimals now we have to multiply discount with sales to get total discount in rupees\n",
    "\n",
    "Total_discount=df['Discount']*df['Sales']\n",
    "print('Total Disount(Rupees)=',Total_discount.sum())\n",
    "\n",
    "# Add some  space\n",
    "display(HTML(\"<br><br><br>\"))\n",
    "\n",
    "\n",
    "\n",
    "#Analysis between profit and sales for highest profit giving subcategory (Copiers) --\n",
    "\n",
    "# Filter Sub-Category which has given the maximum profit with different discounts \n",
    "Highest_profit_copiers = df[df['Sub-Category'] == 'Copiers'][['Sub-Category','Sales','Discount','Profit']].sort_values(by='Discount',ascending=True).reset_index(drop=True)\n",
    "\n",
    "print(Highest_profit_copiers)\n",
    "\n",
    "\n",
    "\n",
    "# Calculate the correlation coefficient between Sales and Discount\n",
    "correlation_coefficient = Highest_profit_copiers['Discount'].corr(Highest_profit_copiers['Sales'])\n",
    "print(f\"Correlation Coefficient between Discount and Sales: {correlation_coefficient:.2f}\")\n",
    "\n",
    "# Calculate the correlation coefficient between Sales and Discount\n",
    "correlation_coefficient = Highest_profit_copiers['Discount'].corr(Highest_profit_copiers['Profit'])\n",
    "print(f\"Correlation Coefficient between Discount and Sales: {correlation_coefficient:.2f}\")\n"
   ]
  },
  {
   "cell_type": "code",
   "execution_count": 66,
   "id": "495b02fd",
   "metadata": {},
   "outputs": [
    {
     "name": "stdout",
     "output_type": "stream",
     "text": [
      "    Sub-Category     Sales  Discount    Profit\n",
      "0         Tables   653.550       0.0  111.1035\n",
      "1         Tables   581.960       0.0  104.7528\n",
      "2         Tables  1256.220       0.0   75.3732\n",
      "3         Tables  2348.820       0.0  399.2994\n",
      "4         Tables  2275.500       0.0  386.8350\n",
      "..           ...       ...       ...       ...\n",
      "314       Tables   214.950       0.5 -120.3720\n",
      "315       Tables    73.915       0.5  -45.8273\n",
      "316       Tables    66.645       0.5  -42.6528\n",
      "317       Tables   145.980       0.5  -99.2664\n",
      "318       Tables   182.550       0.5 -135.0870\n",
      "\n",
      "[319 rows x 4 columns]\n",
      "Correlation Coefficient between Discount and Sales: -0.30\n",
      "Correlation Coefficient between Discount and profit: -0.67\n"
     ]
    }
   ],
   "source": [
    "#Analysis between discount and sales for lowest profit making subcategory (Tables)--\n",
    "\n",
    "# Filter Sub-Category which has given the maximum profit with different discounts \n",
    "Lowest_profit_Tables = df[df['Sub-Category'] == 'Tables'][['Sub-Category','Sales','Discount','Profit']].sort_values(by='Discount',ascending=True).reset_index(drop=True)\n",
    "\n",
    "print(Lowest_profit_Tables)\n",
    "\n",
    "\n",
    "\n",
    "# Calculate the correlation coefficient between discount and sales\n",
    "correlation_coefficient = Lowest_profit_Tables['Discount'].corr(Lowest_profit_Tables['Sales'])\n",
    "print(f\"Correlation Coefficient between Discount and Sales: {correlation_coefficient:.2f}\")\n",
    "\n",
    "\n",
    "# Calculate the correlation coefficient between discount and profit\n",
    "correlation_coefficient = Lowest_profit_Tables['Discount'].corr(Lowest_profit_Tables['Profit'])\n",
    "print(f\"Correlation Coefficient between Discount and profit: {correlation_coefficient:.2f}\")\n"
   ]
  },
  {
   "cell_type": "code",
   "execution_count": null,
   "id": "116b02a9",
   "metadata": {},
   "outputs": [],
   "source": []
  }
 ],
 "metadata": {
  "kernelspec": {
   "display_name": "Python 3 (ipykernel)",
   "language": "python",
   "name": "python3"
  },
  "language_info": {
   "codemirror_mode": {
    "name": "ipython",
    "version": 3
   },
   "file_extension": ".py",
   "mimetype": "text/x-python",
   "name": "python",
   "nbconvert_exporter": "python",
   "pygments_lexer": "ipython3",
   "version": "3.11.5"
  }
 },
 "nbformat": 4,
 "nbformat_minor": 5
}
